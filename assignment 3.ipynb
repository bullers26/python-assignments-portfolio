{
 "cells": [
  {
   "cell_type": "code",
   "execution_count": 26,
   "id": "d3e94ff2-b61b-4abd-bc94-1ef046068dba",
   "metadata": {},
   "outputs": [],
   "source": [
    "import numpy as np"
   ]
  },
  {
   "cell_type": "code",
   "execution_count": 31,
   "id": "a1cc860d-a1e9-4fa8-b265-bd403b896f80",
   "metadata": {},
   "outputs": [],
   "source": [
    "def F_prime(f, c, d=10**-8):\n",
    "    return (f(c + d) - f(c - d)) / (2 * d)\n",
    "\n",
    "def L_A(f, c, f_prime_c):\n",
    "    def L(x):\n",
    "        return f(c) + f_prime_c * (x - c)\n",
    "    return L\n",
    "\n",
    "def find_x(f, L, c, E, o=10**-5):\n",
    "    \n",
    "    x1, x2 = None, None\n",
    "    x_l, x_r = c - o, c + o\n",
    "    \n",
    "    while x1 is None or x2 is None:\n",
    "        if x1 is None and abs(f(x_l) - L(x_l)) >= E:\n",
    "            x1 = x_l\n",
    "        if x2 is None and abs(f(x_r) - L(x_r)) >= E:\n",
    "            x2 = x_r\n",
    "        x_l -= o\n",
    "        x_r += o\n",
    "\n",
    "    return x1, x2\n",
    "\n",
    "def something(f, c, E):\n",
    "    f_prime_c = F_prime(f, c)\n",
    "\n",
    "    L = L_A(f, c, f_prime_c)\n",
    "\n",
    "    return find_x(f, L, c, E)"
   ]
  },
  {
   "cell_type": "code",
   "execution_count": 32,
   "id": "2ca11e96-27bb-4f69-8c91-f8674dd0f0bb",
   "metadata": {
    "scrolled": true
   },
   "outputs": [
    {
     "name": "stdout",
     "output_type": "stream",
     "text": [
      "0.6837700000014392 1.3162300000020717\n"
     ]
    }
   ],
   "source": [
    "def g(x):\n",
    "    return x**2  \n",
    "\n",
    "c = 1  \n",
    "E = 0.1  \n",
    "\n",
    "x1, x2 = something(g, c, E)\n",
    "print(x1, x2)"
   ]
  },
  {
   "cell_type": "code",
   "execution_count": 33,
   "id": "45335476-45f9-42f4-ac89-4994722bad9f",
   "metadata": {},
   "outputs": [
    {
     "name": "stdout",
     "output_type": "stream",
     "text": [
      "0.5639881633984559 0.9915981633965099\n"
     ]
    }
   ],
   "source": [
    "def g(x):\n",
    "    return np.sin(x)\n",
    "\n",
    "c = np.pi/4\n",
    "E = 0.05\n",
    "\n",
    "x1, x2 = something(h, c, E)\n",
    "print(x1, x2)"
   ]
  },
  {
   "cell_type": "code",
   "execution_count": 34,
   "id": "e4a0b66f-aba3-4398-8197-31dbb19930ab",
   "metadata": {},
   "outputs": [
    {
     "name": "stdout",
     "output_type": "stream",
     "text": [
      "-0.14484000000000408 0.1381699999999974\n"
     ]
    }
   ],
   "source": [
    "def i(x):\n",
    "    return np.exp(x)\n",
    "\n",
    "c = 0\n",
    "E = 0.01\n",
    "\n",
    "x1, x2 = something(i, c, E)\n",
    "print(x1, x2)"
   ]
  },
  {
   "cell_type": "code",
   "execution_count": null,
   "id": "589339e9-f15e-493f-942f-7f8f16b9eac2",
   "metadata": {},
   "outputs": [],
   "source": []
  }
 ],
 "metadata": {
  "kernelspec": {
   "display_name": "Python 3 (ipykernel)",
   "language": "python",
   "name": "python3"
  },
  "language_info": {
   "codemirror_mode": {
    "name": "ipython",
    "version": 3
   },
   "file_extension": ".py",
   "mimetype": "text/x-python",
   "name": "python",
   "nbconvert_exporter": "python",
   "pygments_lexer": "ipython3",
   "version": "3.11.9"
  }
 },
 "nbformat": 4,
 "nbformat_minor": 5
}
