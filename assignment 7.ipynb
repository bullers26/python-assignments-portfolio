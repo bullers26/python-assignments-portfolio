{
 "cells": [
  {
   "cell_type": "code",
   "execution_count": 5,
   "id": "3848fad9-d682-423d-9b76-db21cd9eec46",
   "metadata": {},
   "outputs": [
    {
     "name": "stdout",
     "output_type": "stream",
     "text": [
      "Mean: 82.382\n",
      "Standard Deviation: 10.193467189005581\n",
      "t_0: 2.290087686017293\n",
      "t_star: <function t_star at 0x7fdc5834e8e0>\n",
      "Result: Reject null hypothesis\n"
     ]
    },
    {
     "name": "stderr",
     "output_type": "stream",
     "text": [
      "/tmp/ipykernel_689/2714358652.py:23: DeprecationWarning: The truth value of an empty array is ambiguous. Returning False, but in future this will result in an error. Use `array.size > 0` to check that an array is not empty.\n",
      "  return -t_star <= t_0 <= t_star\n",
      "/tmp/ipykernel_689/85342596.py:47: DeprecationWarning: The truth value of an empty array is ambiguous. Returning False, but in future this will result in an error. Use `array.size > 0` to check that an array is not empty.\n",
      "  print(f\"Result: {'Accept null hypothesis' if result else 'Reject null hypothesis'}\")\n"
     ]
    }
   ],
   "source": [
    "import numpy as np\n",
    "\n",
    "def mean_std(data):\n",
    "    n = len(data) # let the data length equal n\n",
    "    mean = np.sum(data) / n # findinf the mean of the data\n",
    "    variance = np.sum((data - mean) ** 2) / (n - 1)\n",
    "    std_dev = np.sqrt(variance)\n",
    "    return mean, std_dev\n",
    "\n",
    "def test(mean, std_dev, mu_0, n):\n",
    "    return (mean - mu_0) / (std_dev / np.sqrt(n))\n",
    "\n",
    "def t_star(prob, nu, x_start=0, x_end=20, num_points=10000):\n",
    "    # Generate a range of t values and their corresponding probabilities\n",
    "    x = np.linspace(x_start, x_end, num_points)\n",
    "    y = (1 / np.sqrt(nu * np.pi)) * np.exp(-0.5 * (x**2))  # approximation of t-distribution PDF\n",
    "    cdf = np.cumsum(y) * (x[1] - x[0])  # Numerically integrate to get the CDF\n",
    "    target_half_prob = prob / 2\n",
    "    index = np.where(cdf >= target_half_prob)[0]\n",
    "    return x[index]\n",
    "\n",
    "def test(t_0, t_star):\n",
    "    return -t_star <= t_0 <= t_star\n",
    "\n",
    "# Given data\n",
    "data = np.array([92.64, 79.00, 84.79, 97.41, 93.68, 65.23, 84.50, 73.49, 73.97, 79.11])\n",
    "mu_0 = 75\n",
    "n = len(data)\n",
    "\n",
    "# Step 1: Compute mean and standard deviation\n",
    "mean, std_dev = mean_std(data)\n",
    "\n",
    "# Step 2: Compute t-value\n",
    "t_0 = t_value(mean, std_dev, mu_0, n)\n",
    "\n",
    "# Step 3: Find t_star (critical value for 95% confidence level)\n",
    "t_star1 = t_star(0.95, n - 1)\n",
    "\n",
    "# Step 4: Compare t_0 and t_star\n",
    "result = t_values(t_0, t_star1)\n",
    "\n",
    "# Output the results\n",
    "print(f\"Mean: {mean}\")\n",
    "print(f\"Standard Deviation: {std_dev}\")\n",
    "print(f\"t_0: {t_0}\")\n",
    "print(f\"t_star: {t_star}\")\n",
    "print(f\"Result: {'Accept null hypothesis' if result else 'Reject null hypothesis'}\")\n"
   ]
  },
  {
   "cell_type": "code",
   "execution_count": null,
   "id": "cafab29d-4595-4c98-ae07-69d8d6af67cf",
   "metadata": {},
   "outputs": [],
   "source": []
  }
 ],
 "metadata": {
  "kernelspec": {
   "display_name": "Python 3 (ipykernel)",
   "language": "python",
   "name": "python3"
  },
  "language_info": {
   "codemirror_mode": {
    "name": "ipython",
    "version": 3
   },
   "file_extension": ".py",
   "mimetype": "text/x-python",
   "name": "python",
   "nbconvert_exporter": "python",
   "pygments_lexer": "ipython3",
   "version": "3.12.8"
  }
 },
 "nbformat": 4,
 "nbformat_minor": 5
}
