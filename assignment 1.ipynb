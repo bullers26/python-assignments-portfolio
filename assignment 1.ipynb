{
 "cells": [
  {
   "cell_type": "code",
   "execution_count": 2,
   "id": "b216f896-de81-495b-b8d6-a58411f03c5b",
   "metadata": {},
   "outputs": [],
   "source": [
    "def myarctan (x):\n",
    "    if x<0 or x>1:\n",
    "        return(\"Error!\")\n",
    "    n=10000\n",
    "    result=0\n",
    "    for i in range (n):\n",
    "        result+=((-1)**i * x ** (2*i+1))/(2*i+1)\n",
    "    error_bound = (x**(2*n+1))/(2*n+1)\n",
    "    return(result,n,error_bound)\n"
   ]
  },
  {
   "cell_type": "code",
   "execution_count": 3,
   "id": "d94f2ef9-a0bd-45e5-8dd0-b3a8641693fd",
   "metadata": {},
   "outputs": [
    {
     "name": "stdout",
     "output_type": "stream",
     "text": [
      "Error!\n",
      "(0.0, 10000, 0.0)\n",
      "(0.2449786631268641, 10000, 0.0)\n",
      "(0.46364760900080587, 10000, 0.0)\n",
      "(0.6435011087932844, 10000, 0.0)\n",
      "(0.7853731633975086, 10000, 4.999750012499375e-05)\n"
     ]
    }
   ],
   "source": [
    "print(myarctan(-1))\n",
    "print(myarctan(0))\n",
    "print(myarctan(0.25))\n",
    "print(myarctan(0.5))\n",
    "print(myarctan(0.75))\n",
    "print(myarctan(1))"
   ]
  },
  {
   "cell_type": "code",
   "execution_count": null,
   "id": "b3319466-ed5c-482c-9220-1231a18a19a6",
   "metadata": {},
   "outputs": [],
   "source": []
  }
 ],
 "metadata": {
  "kernelspec": {
   "display_name": "Python 3 (ipykernel)",
   "language": "python",
   "name": "python3"
  },
  "language_info": {
   "codemirror_mode": {
    "name": "ipython",
    "version": 3
   },
   "file_extension": ".py",
   "mimetype": "text/x-python",
   "name": "python",
   "nbconvert_exporter": "python",
   "pygments_lexer": "ipython3",
   "version": "3.11.9"
  }
 },
 "nbformat": 4,
 "nbformat_minor": 5
}
