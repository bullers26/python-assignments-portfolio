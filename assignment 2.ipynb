{
 "cells": [
  {
   "cell_type": "code",
   "execution_count": 1,
   "id": "3532fbf3-7f73-4ebe-8728-1376d575685a",
   "metadata": {},
   "outputs": [],
   "source": [
    "import numpy as np\n",
    "def funny(x):\n",
    "    if x<=-1:\n",
    "        return 0\n",
    "    elif x>=1:\n",
    "        return 0\n",
    "    else:\n",
    "        return np.exp(1-(1/(1-x**(10**250))))"
   ]
  },
  {
   "cell_type": "code",
   "execution_count": 7,
   "id": "b14c6b4d-9260-42f3-b771-92154f0a40a0",
   "metadata": {},
   "outputs": [
    {
     "name": "stdout",
     "output_type": "stream",
     "text": [
      "0\n"
     ]
    }
   ],
   "source": [
    "print(funny(-1.001))"
   ]
  },
  {
   "cell_type": "code",
   "execution_count": 6,
   "id": "c6138e0d-9e3e-44da-8fa5-2ca99d949637",
   "metadata": {},
   "outputs": [
    {
     "name": "stdout",
     "output_type": "stream",
     "text": [
      "0\n"
     ]
    }
   ],
   "source": [
    "print(funny(1.001))"
   ]
  },
  {
   "cell_type": "code",
   "execution_count": 10,
   "id": "eefe238c-d95f-42dd-a5aa-2e1952e8aa2a",
   "metadata": {},
   "outputs": [
    {
     "name": "stdout",
     "output_type": "stream",
     "text": [
      "1.0\n"
     ]
    }
   ],
   "source": [
    "print(funny(-0.99))"
   ]
  },
  {
   "cell_type": "code",
   "execution_count": 4,
   "id": "585337ba-159d-4665-a0d6-97b3530141b4",
   "metadata": {},
   "outputs": [
    {
     "name": "stdout",
     "output_type": "stream",
     "text": [
      "1.0\n"
     ]
    }
   ],
   "source": [
    "print(funny(0.99))"
   ]
  },
  {
   "cell_type": "code",
   "execution_count": null,
   "id": "d01a97db-f864-4678-a8e7-b04e85196ae1",
   "metadata": {},
   "outputs": [],
   "source": [
    "#question 4"
   ]
  },
  {
   "cell_type": "code",
   "execution_count": 17,
   "id": "31b0baa1-2905-41e7-b659-c2ce30a01570",
   "metadata": {},
   "outputs": [],
   "source": [
    "import numpy as np"
   ]
  },
  {
   "cell_type": "code",
   "execution_count": 18,
   "id": "0521438d-baf0-4c57-a4b1-217ce4bdb4fb",
   "metadata": {
    "editable": true,
    "slideshow": {
     "slide_type": ""
    },
    "tags": []
   },
   "outputs": [],
   "source": [
    "def roots(f, a, b):\n",
    "    if f(a) * f(b) >= 0: #checking if function crosses x axis\n",
    "        print(\"No root found in this interval!\")\n",
    "        return None\n",
    "    \n",
    "    while (b - a) > 10**-10:\n",
    "        c = (a + b) / 2.0\n",
    "        \n",
    "        if f(c) == 0 or (b - a) / 2 < 10**10:\n",
    "            return c\n",
    "    \n",
    "        if f(a) * f(c) < 0:\n",
    "            b = c  \n",
    "        else:\n",
    "            a = c  \n",
    "    \n",
    "    return (a + b) / 2.0\n"
   ]
  },
  {
   "cell_type": "code",
   "execution_count": 27,
   "id": "a7069d8f-6dbf-4547-a956-db07e387c9c3",
   "metadata": {},
   "outputs": [
    {
     "name": "stdout",
     "output_type": "stream",
     "text": [
      "0.5\n"
     ]
    },
    {
     "name": "stderr",
     "output_type": "stream",
     "text": [
      "/tmp/ipykernel_689/1122367193.py:2: RuntimeWarning: divide by zero encountered in log\n",
      "  return np.exp(x) + np.log(x)\n"
     ]
    }
   ],
   "source": [
    "def test_function(x): \n",
    "    return np.exp(x) + np.log(x)\n",
    "\n",
    "root = roots(test_function, 0, 1)\n",
    "print(root)"
   ]
  },
  {
   "cell_type": "code",
   "execution_count": null,
   "id": "ce55c93f-4fa2-4074-b885-27165df9d993",
   "metadata": {},
   "outputs": [],
   "source": []
  }
 ],
 "metadata": {
  "kernelspec": {
   "display_name": "Python 3 (ipykernel)",
   "language": "python",
   "name": "python3"
  },
  "language_info": {
   "codemirror_mode": {
    "name": "ipython",
    "version": 3
   },
   "file_extension": ".py",
   "mimetype": "text/x-python",
   "name": "python",
   "nbconvert_exporter": "python",
   "pygments_lexer": "ipython3",
   "version": "3.11.9"
  }
 },
 "nbformat": 4,
 "nbformat_minor": 5
}
